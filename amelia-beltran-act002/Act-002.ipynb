{
 "cells": [
  {
   "cell_type": "code",
   "execution_count": 3,
   "metadata": {},
   "outputs": [],
   "source": [
    "## Ejercicio 1: Generar un par de arrays ficticios con `numpy`"
   ]
  },
  {
   "cell_type": "code",
   "execution_count": 1,
   "metadata": {},
   "outputs": [],
   "source": [
    "import numpy as np \n"
   ]
  },
  {
   "cell_type": "code",
   "execution_count": 2,
   "metadata": {},
   "outputs": [
    {
     "data": {
      "text/plain": [
       "array([ 1,  2,  3,  4,  5,  6,  7,  8,  9, 10, 11, 12, 13, 14, 15, 16, 17,\n",
       "       18, 19, 20, 21, 22, 23, 24, 25, 26, 27, 28, 29, 30, 31, 32, 33, 34,\n",
       "       35, 36, 37, 38, 39, 40, 41, 42, 43, 44, 45, 46, 47, 48, 49, 50])"
      ]
     },
     "execution_count": 2,
     "metadata": {},
     "output_type": "execute_result"
    }
   ],
   "source": [
    "a= np.linspace(1, 50, dtype= int)\n",
    "a"
   ]
  },
  {
   "cell_type": "code",
   "execution_count": 3,
   "metadata": {},
   "outputs": [
    {
     "name": "stdout",
     "output_type": "stream",
     "text": [
      "\f",
      "\n"
     ]
    }
   ],
   "source": [
    "clear"
   ]
  },
  {
   "cell_type": "code",
   "execution_count": 4,
   "metadata": {},
   "outputs": [],
   "source": [
    "b = np.linspace(50, 150,10)"
   ]
  },
  {
   "cell_type": "code",
   "execution_count": 5,
   "metadata": {},
   "outputs": [
    {
     "data": {
      "text/plain": [
       "50"
      ]
     },
     "execution_count": 5,
     "metadata": {},
     "output_type": "execute_result"
    }
   ],
   "source": [
    "len(a)"
   ]
  },
  {
   "cell_type": "code",
   "execution_count": 6,
   "metadata": {},
   "outputs": [
    {
     "name": "stdout",
     "output_type": "stream",
     "text": [
      "1 es impar\n",
      "2 es par\n",
      "3 es impar\n",
      "4 es par\n",
      "5 es impar\n",
      "6 es par\n",
      "7 es impar\n",
      "8 es par\n",
      "9 es impar\n",
      "10 es par\n",
      "11 es impar\n",
      "12 es par\n",
      "13 es impar\n",
      "14 es par\n",
      "15 es impar\n",
      "16 es par\n",
      "17 es impar\n",
      "18 es par\n",
      "19 es impar\n",
      "20 es par\n",
      "21 es impar\n",
      "22 es par\n",
      "23 es impar\n",
      "24 es par\n",
      "25 es impar\n",
      "26 es par\n",
      "27 es impar\n",
      "28 es par\n",
      "29 es impar\n",
      "30 es par\n",
      "31 es impar\n",
      "32 es par\n",
      "33 es impar\n",
      "34 es par\n",
      "35 es impar\n",
      "36 es par\n",
      "37 es impar\n",
      "38 es par\n",
      "39 es impar\n",
      "40 es par\n",
      "41 es impar\n",
      "42 es par\n",
      "43 es impar\n",
      "44 es par\n",
      "45 es impar\n",
      "46 es par\n",
      "47 es impar\n",
      "48 es par\n",
      "49 es impar\n",
      "50 es par\n"
     ]
    }
   ],
   "source": [
    "## Ejercicio 2: Ejecute un loop que devuelva si el número en el primer array es par o impar\n",
    "for i in range(len(a)):\n",
    "    valor = a[i]\n",
    "    if (valor % 2) == 0:\n",
    "        print(\"{} es par\".format(valor))\n",
    "    else:\n",
    "        print(\"{} es impar\".format(valor))\n",
    " "
   ]
  },
  {
   "cell_type": "code",
   "execution_count": 7,
   "metadata": {},
   "outputs": [
    {
     "data": {
      "text/plain": [
       "array([ 50,  52,  54,  56,  58,  60,  62,  64,  66,  68,  70,  72,  74,\n",
       "        76,  78,  80,  82,  84,  86,  88,  90,  92,  94,  96,  98, 101,\n",
       "       103, 105, 107, 109, 111, 113, 115, 117, 119, 121, 123, 125, 127,\n",
       "       129, 131, 133, 135, 137, 139, 141, 143, 145, 147, 150])"
      ]
     },
     "execution_count": 7,
     "metadata": {},
     "output_type": "execute_result"
    }
   ],
   "source": [
    "b = np.linspace(50, 150, dtype = int)\n",
    "b"
   ]
  },
  {
   "cell_type": "code",
   "execution_count": 8,
   "metadata": {},
   "outputs": [
    {
     "name": "stdout",
     "output_type": "stream",
     "text": [
      "divisible por 2 o 3: 34\n",
      "divisible por 2 y 3: 0\n",
      "divisible por 3 pero no por 2: 0\n",
      "divisible por 2 ni 3: 16\n"
     ]
    }
   ],
   "source": [
    "dos_o_tres = 0\n",
    "dos_y_tres = 0\n",
    "si_tres = 0\n",
    "ni_tres_ni_dos = 0\n",
    "for i in range(len(b)):\n",
    "    valor = b[i]\n",
    "    if (valor%2== 0) or (valor%3 == 0):\n",
    "        dos_o_tres = dos_o_tres +1\n",
    "    elif(valor%2== 0) and (valor%3 == 0):\n",
    "        dos_y_tres = dos_y_tres +1\n",
    "    elif(valor%3 == 0) and (valor%2 != 0):\n",
    "        si_tres = si_tres + 1\n",
    "    elif (valor%3 != 0) and (valor%2 != 0):\n",
    "        ni_tres_ni_dos = ni_tres_ni_dos +1\n",
    "print(\"divisible por 2 o 3: {}\".format(dos_o_tres))\n",
    "print(\"divisible por 2 y 3: {}\".format(dos_y_tres))\n",
    "print(\"divisible por 3 pero no por 2: {}\".format(si_tres))\n",
    "print(\"divisible por 2 ni 3: {}\".format(ni_tres_ni_dos))   "
   ]
  },
  {
   "cell_type": "code",
   "execution_count": 9,
   "metadata": {},
   "outputs": [],
   "source": [
    "## Ejercicio 4\n",
    "import pandas as pd\n",
    "df = pd.read_csv('flights.csv')\n"
   ]
  },
  {
   "cell_type": "code",
   "execution_count": 10,
   "metadata": {},
   "outputs": [
    {
     "data": {
      "text/plain": [
       "280.2986111111111"
      ]
     },
     "execution_count": 10,
     "metadata": {},
     "output_type": "execute_result"
    }
   ],
   "source": [
    "media = np.mean(df['passengers'])\n",
    "media"
   ]
  },
  {
   "cell_type": "code",
   "execution_count": 11,
   "metadata": {},
   "outputs": [
    {
     "name": "stdout",
     "output_type": "stream",
     "text": [
      "\f",
      "\n"
     ]
    }
   ],
   "source": [
    "clear"
   ]
  },
  {
   "cell_type": "code",
   "execution_count": 12,
   "metadata": {},
   "outputs": [],
   "source": [
    "df['under']=0"
   ]
  },
  {
   "cell_type": "code",
   "execution_count": 13,
   "metadata": {},
   "outputs": [
    {
     "name": "stdout",
     "output_type": "stream",
     "text": [
      "     year      month  passengers  under\n",
      "0    1949    January         112      1\n",
      "1    1949   February         118      1\n",
      "2    1949      March         132      1\n",
      "3    1949      April         129      1\n",
      "4    1949        May         121      1\n",
      "5    1949       June         135      1\n",
      "6    1949       July         148      1\n",
      "7    1949     August         148      1\n",
      "8    1949  September         136      1\n",
      "9    1949    October         119      1\n",
      "10   1949   November         104      1\n",
      "11   1949   December         118      1\n",
      "12   1950    January         115      1\n",
      "13   1950   February         126      1\n",
      "14   1950      March         141      1\n",
      "15   1950      April         135      1\n",
      "16   1950        May         125      1\n",
      "17   1950       June         149      1\n",
      "18   1950       July         170      1\n",
      "19   1950     August         170      1\n",
      "20   1950  September         158      1\n",
      "21   1950    October         133      1\n",
      "22   1950   November         114      1\n",
      "23   1950   December         140      1\n",
      "24   1951    January         145      1\n",
      "25   1951   February         150      1\n",
      "26   1951      March         178      1\n",
      "27   1951      April         163      1\n",
      "28   1951        May         172      1\n",
      "29   1951       June         178      1\n",
      "..    ...        ...         ...    ...\n",
      "114  1958       July         491      0\n",
      "115  1958     August         505      0\n",
      "116  1958  September         404      0\n",
      "117  1958    October         359      0\n",
      "118  1958   November         310      0\n",
      "119  1958   December         337      0\n",
      "120  1959    January         360      0\n",
      "121  1959   February         342      0\n",
      "122  1959      March         406      0\n",
      "123  1959      April         396      0\n",
      "124  1959        May         420      0\n",
      "125  1959       June         472      0\n",
      "126  1959       July         548      0\n",
      "127  1959     August         559      0\n",
      "128  1959  September         463      0\n",
      "129  1959    October         407      0\n",
      "130  1959   November         362      0\n",
      "131  1959   December         405      0\n",
      "132  1960    January         417      0\n",
      "133  1960   February         391      0\n",
      "134  1960      March         419      0\n",
      "135  1960      April         461      0\n",
      "136  1960        May         472      0\n",
      "137  1960       June         535      0\n",
      "138  1960       July         622      0\n",
      "139  1960     August         606      0\n",
      "140  1960  September         508      0\n",
      "141  1960    October         461      0\n",
      "142  1960   November         390      0\n",
      "143  1960   December         432      0\n",
      "\n",
      "[144 rows x 4 columns]\n"
     ]
    },
    {
     "name": "stderr",
     "output_type": "stream",
     "text": [
      "C:\\Users\\abeltran\\AppData\\Local\\Continuum\\anaconda3\\lib\\site-packages\\ipykernel_launcher.py:5: FutureWarning: set_value is deprecated and will be removed in a future release. Please use .at[] or .iat[] accessors instead\n",
      "  \"\"\"\n"
     ]
    }
   ],
   "source": [
    "index= 0\n",
    "for i in df['passengers']:\n",
    "    if i < media:\n",
    "        #print(\"Esta cantidad {} es menor a la media {}\".format(i, media))\n",
    "        df.set_value(index, \"under\",1)\n",
    "    index += 1\n",
    "        \n",
    "print(df)"
   ]
  },
  {
   "cell_type": "code",
   "execution_count": 14,
   "metadata": {},
   "outputs": [
    {
     "data": {
      "text/plain": [
       "1    80\n",
       "0    64\n",
       "Name: under, dtype: int64"
      ]
     },
     "execution_count": 14,
     "metadata": {},
     "output_type": "execute_result"
    }
   ],
   "source": [
    "df.under.value_counts()"
   ]
  },
  {
   "cell_type": "code",
   "execution_count": 19,
   "metadata": {},
   "outputs": [
    {
     "data": {
      "text/plain": [
       "119.54904153277148"
      ]
     },
     "execution_count": 19,
     "metadata": {},
     "output_type": "execute_result"
    }
   ],
   "source": [
    "## Ejercicio 5\n",
    "desv= np.std(df['passengers'])\n",
    "desv"
   ]
  },
  {
   "cell_type": "code",
   "execution_count": 21,
   "metadata": {},
   "outputs": [],
   "source": [
    "df['outlier']=0"
   ]
  },
  {
   "cell_type": "code",
   "execution_count": 26,
   "metadata": {},
   "outputs": [
    {
     "name": "stdout",
     "output_type": "stream",
     "text": [
      "Passengers 112 es outlier | (media-desv = 160.74956957833962) | (media + desv= 399.84765264388255)\n",
      "Passengers 118 es outlier | (media-desv = 160.74956957833962) | (media + desv= 399.84765264388255)\n",
      "Passengers 132 es outlier | (media-desv = 160.74956957833962) | (media + desv= 399.84765264388255)\n",
      "Passengers 129 es outlier | (media-desv = 160.74956957833962) | (media + desv= 399.84765264388255)\n",
      "Passengers 121 es outlier | (media-desv = 160.74956957833962) | (media + desv= 399.84765264388255)\n",
      "Passengers 135 es outlier | (media-desv = 160.74956957833962) | (media + desv= 399.84765264388255)\n",
      "Passengers 148 es outlier | (media-desv = 160.74956957833962) | (media + desv= 399.84765264388255)\n",
      "Passengers 148 es outlier | (media-desv = 160.74956957833962) | (media + desv= 399.84765264388255)\n",
      "Passengers 136 es outlier | (media-desv = 160.74956957833962) | (media + desv= 399.84765264388255)\n",
      "Passengers 119 es outlier | (media-desv = 160.74956957833962) | (media + desv= 399.84765264388255)\n",
      "Passengers 104 es outlier | (media-desv = 160.74956957833962) | (media + desv= 399.84765264388255)\n",
      "Passengers 118 es outlier | (media-desv = 160.74956957833962) | (media + desv= 399.84765264388255)\n",
      "Passengers 115 es outlier | (media-desv = 160.74956957833962) | (media + desv= 399.84765264388255)\n",
      "Passengers 126 es outlier | (media-desv = 160.74956957833962) | (media + desv= 399.84765264388255)\n",
      "Passengers 141 es outlier | (media-desv = 160.74956957833962) | (media + desv= 399.84765264388255)\n",
      "Passengers 135 es outlier | (media-desv = 160.74956957833962) | (media + desv= 399.84765264388255)\n",
      "Passengers 125 es outlier | (media-desv = 160.74956957833962) | (media + desv= 399.84765264388255)\n",
      "Passengers 149 es outlier | (media-desv = 160.74956957833962) | (media + desv= 399.84765264388255)\n",
      "Passengers 158 es outlier | (media-desv = 160.74956957833962) | (media + desv= 399.84765264388255)\n",
      "Passengers 133 es outlier | (media-desv = 160.74956957833962) | (media + desv= 399.84765264388255)\n",
      "Passengers 114 es outlier | (media-desv = 160.74956957833962) | (media + desv= 399.84765264388255)\n",
      "Passengers 140 es outlier | (media-desv = 160.74956957833962) | (media + desv= 399.84765264388255)\n",
      "Passengers 145 es outlier | (media-desv = 160.74956957833962) | (media + desv= 399.84765264388255)\n",
      "Passengers 150 es outlier | (media-desv = 160.74956957833962) | (media + desv= 399.84765264388255)\n",
      "Passengers 146 es outlier | (media-desv = 160.74956957833962) | (media + desv= 399.84765264388255)\n",
      "Passengers 413 es outlier | (media-desv = 160.74956957833962) | (media + desv= 399.84765264388255)\n",
      "Passengers 405 es outlier | (media-desv = 160.74956957833962) | (media + desv= 399.84765264388255)\n",
      "Passengers 422 es outlier | (media-desv = 160.74956957833962) | (media + desv= 399.84765264388255)\n",
      "Passengers 465 es outlier | (media-desv = 160.74956957833962) | (media + desv= 399.84765264388255)\n",
      "Passengers 467 es outlier | (media-desv = 160.74956957833962) | (media + desv= 399.84765264388255)\n",
      "Passengers 404 es outlier | (media-desv = 160.74956957833962) | (media + desv= 399.84765264388255)\n",
      "Passengers 435 es outlier | (media-desv = 160.74956957833962) | (media + desv= 399.84765264388255)\n",
      "Passengers 491 es outlier | (media-desv = 160.74956957833962) | (media + desv= 399.84765264388255)\n",
      "Passengers 505 es outlier | (media-desv = 160.74956957833962) | (media + desv= 399.84765264388255)\n",
      "Passengers 404 es outlier | (media-desv = 160.74956957833962) | (media + desv= 399.84765264388255)\n",
      "Passengers 406 es outlier | (media-desv = 160.74956957833962) | (media + desv= 399.84765264388255)\n",
      "Passengers 420 es outlier | (media-desv = 160.74956957833962) | (media + desv= 399.84765264388255)\n",
      "Passengers 472 es outlier | (media-desv = 160.74956957833962) | (media + desv= 399.84765264388255)\n",
      "Passengers 548 es outlier | (media-desv = 160.74956957833962) | (media + desv= 399.84765264388255)\n",
      "Passengers 559 es outlier | (media-desv = 160.74956957833962) | (media + desv= 399.84765264388255)\n",
      "Passengers 463 es outlier | (media-desv = 160.74956957833962) | (media + desv= 399.84765264388255)\n",
      "Passengers 407 es outlier | (media-desv = 160.74956957833962) | (media + desv= 399.84765264388255)\n",
      "Passengers 405 es outlier | (media-desv = 160.74956957833962) | (media + desv= 399.84765264388255)\n",
      "Passengers 417 es outlier | (media-desv = 160.74956957833962) | (media + desv= 399.84765264388255)\n",
      "Passengers 419 es outlier | (media-desv = 160.74956957833962) | (media + desv= 399.84765264388255)\n",
      "Passengers 461 es outlier | (media-desv = 160.74956957833962) | (media + desv= 399.84765264388255)\n",
      "Passengers 472 es outlier | (media-desv = 160.74956957833962) | (media + desv= 399.84765264388255)\n",
      "Passengers 535 es outlier | (media-desv = 160.74956957833962) | (media + desv= 399.84765264388255)\n",
      "Passengers 622 es outlier | (media-desv = 160.74956957833962) | (media + desv= 399.84765264388255)\n",
      "Passengers 606 es outlier | (media-desv = 160.74956957833962) | (media + desv= 399.84765264388255)\n",
      "Passengers 508 es outlier | (media-desv = 160.74956957833962) | (media + desv= 399.84765264388255)\n",
      "Passengers 461 es outlier | (media-desv = 160.74956957833962) | (media + desv= 399.84765264388255)\n",
      "Passengers 432 es outlier | (media-desv = 160.74956957833962) | (media + desv= 399.84765264388255)\n",
      "     year      month  passengers  under  outlier\n",
      "0    1949    January         112      1        1\n",
      "1    1949   February         118      1        1\n",
      "2    1949      March         132      1        1\n",
      "3    1949      April         129      1        1\n",
      "4    1949        May         121      1        1\n",
      "5    1949       June         135      1        1\n",
      "6    1949       July         148      1        1\n",
      "7    1949     August         148      1        1\n",
      "8    1949  September         136      1        1\n",
      "9    1949    October         119      1        1\n",
      "10   1949   November         104      1        1\n",
      "11   1949   December         118      1        1\n",
      "12   1950    January         115      1        1\n",
      "13   1950   February         126      1        1\n",
      "14   1950      March         141      1        1\n",
      "15   1950      April         135      1        1\n",
      "16   1950        May         125      1        1\n",
      "17   1950       June         149      1        1\n",
      "18   1950       July         170      1        0\n",
      "19   1950     August         170      1        0\n",
      "20   1950  September         158      1        1\n",
      "21   1950    October         133      1        1\n",
      "22   1950   November         114      1        1\n",
      "23   1950   December         140      1        1\n",
      "24   1951    January         145      1        1\n",
      "25   1951   February         150      1        1\n",
      "26   1951      March         178      1        0\n",
      "27   1951      April         163      1        0\n",
      "28   1951        May         172      1        0\n",
      "29   1951       June         178      1        0\n",
      "..    ...        ...         ...    ...      ...\n",
      "114  1958       July         491      0        1\n",
      "115  1958     August         505      0        1\n",
      "116  1958  September         404      0        1\n",
      "117  1958    October         359      0        0\n",
      "118  1958   November         310      0        0\n",
      "119  1958   December         337      0        0\n",
      "120  1959    January         360      0        0\n",
      "121  1959   February         342      0        0\n",
      "122  1959      March         406      0        1\n",
      "123  1959      April         396      0        0\n",
      "124  1959        May         420      0        1\n",
      "125  1959       June         472      0        1\n",
      "126  1959       July         548      0        1\n",
      "127  1959     August         559      0        1\n",
      "128  1959  September         463      0        1\n",
      "129  1959    October         407      0        1\n",
      "130  1959   November         362      0        0\n",
      "131  1959   December         405      0        1\n",
      "132  1960    January         417      0        1\n",
      "133  1960   February         391      0        0\n",
      "134  1960      March         419      0        1\n",
      "135  1960      April         461      0        1\n",
      "136  1960        May         472      0        1\n",
      "137  1960       June         535      0        1\n",
      "138  1960       July         622      0        1\n",
      "139  1960     August         606      0        1\n",
      "140  1960  September         508      0        1\n",
      "141  1960    October         461      0        1\n",
      "142  1960   November         390      0        0\n",
      "143  1960   December         432      0        1\n",
      "\n",
      "[144 rows x 5 columns]\n"
     ]
    },
    {
     "name": "stderr",
     "output_type": "stream",
     "text": [
      "C:\\Users\\abeltran\\AppData\\Local\\Continuum\\anaconda3\\lib\\site-packages\\ipykernel_launcher.py:6: FutureWarning: set_value is deprecated and will be removed in a future release. Please use .at[] or .iat[] accessors instead\n",
      "  \n"
     ]
    }
   ],
   "source": [
    "index= 0\n",
    "for i in df['passengers']:\n",
    "     ## Passengers menor a (la media menos la desviación) o Passengers mayor a la media más la desviación estándar\n",
    "    if (i < (media - desv)) or (i> (media+desv)):\n",
    "          print(\"Passengers {} es outlier | (media-desv = {}) | (media + desv= {})\".format(i, media - desv, media+desv))\n",
    "          df.set_value(index, \"outlier\",1)\n",
    "    index += 1\n",
    "        \n",
    "print(df)"
   ]
  },
  {
   "cell_type": "code",
   "execution_count": null,
   "metadata": {},
   "outputs": [],
   "source": []
  }
 ],
 "metadata": {
  "kernelspec": {
   "display_name": "Python 3",
   "language": "python",
   "name": "python3"
  },
  "language_info": {
   "codemirror_mode": {
    "name": "ipython",
    "version": 3
   },
   "file_extension": ".py",
   "mimetype": "text/x-python",
   "name": "python",
   "nbconvert_exporter": "python",
   "pygments_lexer": "ipython3",
   "version": "3.6.5"
  }
 },
 "nbformat": 4,
 "nbformat_minor": 2
}
